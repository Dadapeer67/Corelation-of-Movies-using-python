{
  "cells": [
    {
      "cell_type": "markdown",
      "metadata": {
        "id": "view-in-github",
        "colab_type": "text"
      },
      "source": [
        "<a href=\"https://colab.research.google.com/github/Dadapeer67/Corelation-of-Movies-using-python/blob/main/01_SF_Salaries_Exercise.ipynb\" target=\"_parent\"><img src=\"https://colab.research.google.com/assets/colab-badge.svg\" alt=\"Open In Colab\"/></a>"
      ]
    },
    {
      "cell_type": "markdown",
      "metadata": {
        "id": "HgWJdMnsDPCk"
      },
      "source": [
        "# SF Salaries Exercise\n",
        "\n",
        "Welcome to a quick exercise for you to practice your pandas skills! We will be using the [SF Salaries Dataset](https://www.kaggle.com/kaggle/sf-salaries) from Kaggle! Just follow along and complete the tasks outlined in bold below. The tasks will get harder and harder as you go along."
      ]
    },
    {
      "cell_type": "markdown",
      "metadata": {
        "id": "m-SEUZEODPCl"
      },
      "source": [
        "**Import pandas as pd.**"
      ]
    },
    {
      "cell_type": "code",
      "execution_count": null,
      "metadata": {
        "collapsed": true,
        "id": "r8IR8xWsDPCm"
      },
      "outputs": [],
      "source": [
        "import pandas as pd"
      ]
    },
    {
      "cell_type": "markdown",
      "metadata": {
        "id": "DYKOVxxMDPCn"
      },
      "source": [
        "**Read Salaries.csv as a dataframe called df.**"
      ]
    },
    {
      "cell_type": "code",
      "execution_count": null,
      "metadata": {
        "id": "LLrdYqeWDPCn",
        "colab": {
          "base_uri": "https://localhost:8080/"
        },
        "outputId": "6fe6fffe-5e51-43c1-d91e-a7a78823ccd6"
      },
      "outputs": [
        {
          "output_type": "stream",
          "name": "stdout",
          "text": [
            "Mounted at /drive\n"
          ]
        }
      ],
      "source": [
        "from google.colab import drive\n",
        "drive.mount('/drive')"
      ]
    },
    {
      "cell_type": "code",
      "source": [
        "df=pd.read_csv('/drive/My Drive/Datasets/Salaries.csv')"
      ],
      "metadata": {
        "id": "0RL1ZSJVEmLr"
      },
      "execution_count": null,
      "outputs": []
    },
    {
      "cell_type": "code",
      "source": [
        "df"
      ],
      "metadata": {
        "colab": {
          "base_uri": "https://localhost:8080/",
          "height": 835
        },
        "id": "dE-ph6RSE0Gt",
        "outputId": "ed51b735-c67e-4e88-ae28-fa2a9a98d816"
      },
      "execution_count": null,
      "outputs": [
        {
          "output_type": "execute_result",
          "data": {
            "text/plain": [
              "            Id       EmployeeName  \\\n",
              "0            1     NATHANIEL FORD   \n",
              "1            2       GARY JIMENEZ   \n",
              "2            3     ALBERT PARDINI   \n",
              "3            4  CHRISTOPHER CHONG   \n",
              "4            5    PATRICK GARDNER   \n",
              "...        ...                ...   \n",
              "148649  148650      Roy I Tillery   \n",
              "148650  148651       Not provided   \n",
              "148651  148652       Not provided   \n",
              "148652  148653       Not provided   \n",
              "148653  148654          Joe Lopez   \n",
              "\n",
              "                                              JobTitle    BasePay  \\\n",
              "0       GENERAL MANAGER-METROPOLITAN TRANSIT AUTHORITY  167411.18   \n",
              "1                      CAPTAIN III (POLICE DEPARTMENT)  155966.02   \n",
              "2                      CAPTAIN III (POLICE DEPARTMENT)  212739.13   \n",
              "3                 WIRE ROPE CABLE MAINTENANCE MECHANIC   77916.00   \n",
              "4         DEPUTY CHIEF OF DEPARTMENT,(FIRE DEPARTMENT)  134401.60   \n",
              "...                                                ...        ...   \n",
              "148649                                       Custodian       0.00   \n",
              "148650                                    Not provided        NaN   \n",
              "148651                                    Not provided        NaN   \n",
              "148652                                    Not provided        NaN   \n",
              "148653                      Counselor, Log Cabin Ranch       0.00   \n",
              "\n",
              "        OvertimePay   OtherPay  Benefits   TotalPay  TotalPayBenefits  Year  \\\n",
              "0              0.00  400184.25       NaN  567595.43         567595.43  2011   \n",
              "1         245131.88  137811.38       NaN  538909.28         538909.28  2011   \n",
              "2         106088.18   16452.60       NaN  335279.91         335279.91  2011   \n",
              "3          56120.71  198306.90       NaN  332343.61         332343.61  2011   \n",
              "4           9737.00  182234.59       NaN  326373.19         326373.19  2011   \n",
              "...             ...        ...       ...        ...               ...   ...   \n",
              "148649         0.00       0.00       0.0       0.00              0.00  2014   \n",
              "148650          NaN        NaN       NaN       0.00              0.00  2014   \n",
              "148651          NaN        NaN       NaN       0.00              0.00  2014   \n",
              "148652          NaN        NaN       NaN       0.00              0.00  2014   \n",
              "148653         0.00    -618.13       0.0    -618.13           -618.13  2014   \n",
              "\n",
              "        Notes         Agency  Status  \n",
              "0         NaN  San Francisco     NaN  \n",
              "1         NaN  San Francisco     NaN  \n",
              "2         NaN  San Francisco     NaN  \n",
              "3         NaN  San Francisco     NaN  \n",
              "4         NaN  San Francisco     NaN  \n",
              "...       ...            ...     ...  \n",
              "148649    NaN  San Francisco     NaN  \n",
              "148650    NaN  San Francisco     NaN  \n",
              "148651    NaN  San Francisco     NaN  \n",
              "148652    NaN  San Francisco     NaN  \n",
              "148653    NaN  San Francisco     NaN  \n",
              "\n",
              "[148654 rows x 13 columns]"
            ],
            "text/html": [
              "\n",
              "  <div id=\"df-5d457894-1024-4b8a-9537-fc0147216e6e\">\n",
              "    <div class=\"colab-df-container\">\n",
              "      <div>\n",
              "<style scoped>\n",
              "    .dataframe tbody tr th:only-of-type {\n",
              "        vertical-align: middle;\n",
              "    }\n",
              "\n",
              "    .dataframe tbody tr th {\n",
              "        vertical-align: top;\n",
              "    }\n",
              "\n",
              "    .dataframe thead th {\n",
              "        text-align: right;\n",
              "    }\n",
              "</style>\n",
              "<table border=\"1\" class=\"dataframe\">\n",
              "  <thead>\n",
              "    <tr style=\"text-align: right;\">\n",
              "      <th></th>\n",
              "      <th>Id</th>\n",
              "      <th>EmployeeName</th>\n",
              "      <th>JobTitle</th>\n",
              "      <th>BasePay</th>\n",
              "      <th>OvertimePay</th>\n",
              "      <th>OtherPay</th>\n",
              "      <th>Benefits</th>\n",
              "      <th>TotalPay</th>\n",
              "      <th>TotalPayBenefits</th>\n",
              "      <th>Year</th>\n",
              "      <th>Notes</th>\n",
              "      <th>Agency</th>\n",
              "      <th>Status</th>\n",
              "    </tr>\n",
              "  </thead>\n",
              "  <tbody>\n",
              "    <tr>\n",
              "      <th>0</th>\n",
              "      <td>1</td>\n",
              "      <td>NATHANIEL FORD</td>\n",
              "      <td>GENERAL MANAGER-METROPOLITAN TRANSIT AUTHORITY</td>\n",
              "      <td>167411.18</td>\n",
              "      <td>0.00</td>\n",
              "      <td>400184.25</td>\n",
              "      <td>NaN</td>\n",
              "      <td>567595.43</td>\n",
              "      <td>567595.43</td>\n",
              "      <td>2011</td>\n",
              "      <td>NaN</td>\n",
              "      <td>San Francisco</td>\n",
              "      <td>NaN</td>\n",
              "    </tr>\n",
              "    <tr>\n",
              "      <th>1</th>\n",
              "      <td>2</td>\n",
              "      <td>GARY JIMENEZ</td>\n",
              "      <td>CAPTAIN III (POLICE DEPARTMENT)</td>\n",
              "      <td>155966.02</td>\n",
              "      <td>245131.88</td>\n",
              "      <td>137811.38</td>\n",
              "      <td>NaN</td>\n",
              "      <td>538909.28</td>\n",
              "      <td>538909.28</td>\n",
              "      <td>2011</td>\n",
              "      <td>NaN</td>\n",
              "      <td>San Francisco</td>\n",
              "      <td>NaN</td>\n",
              "    </tr>\n",
              "    <tr>\n",
              "      <th>2</th>\n",
              "      <td>3</td>\n",
              "      <td>ALBERT PARDINI</td>\n",
              "      <td>CAPTAIN III (POLICE DEPARTMENT)</td>\n",
              "      <td>212739.13</td>\n",
              "      <td>106088.18</td>\n",
              "      <td>16452.60</td>\n",
              "      <td>NaN</td>\n",
              "      <td>335279.91</td>\n",
              "      <td>335279.91</td>\n",
              "      <td>2011</td>\n",
              "      <td>NaN</td>\n",
              "      <td>San Francisco</td>\n",
              "      <td>NaN</td>\n",
              "    </tr>\n",
              "    <tr>\n",
              "      <th>3</th>\n",
              "      <td>4</td>\n",
              "      <td>CHRISTOPHER CHONG</td>\n",
              "      <td>WIRE ROPE CABLE MAINTENANCE MECHANIC</td>\n",
              "      <td>77916.00</td>\n",
              "      <td>56120.71</td>\n",
              "      <td>198306.90</td>\n",
              "      <td>NaN</td>\n",
              "      <td>332343.61</td>\n",
              "      <td>332343.61</td>\n",
              "      <td>2011</td>\n",
              "      <td>NaN</td>\n",
              "      <td>San Francisco</td>\n",
              "      <td>NaN</td>\n",
              "    </tr>\n",
              "    <tr>\n",
              "      <th>4</th>\n",
              "      <td>5</td>\n",
              "      <td>PATRICK GARDNER</td>\n",
              "      <td>DEPUTY CHIEF OF DEPARTMENT,(FIRE DEPARTMENT)</td>\n",
              "      <td>134401.60</td>\n",
              "      <td>9737.00</td>\n",
              "      <td>182234.59</td>\n",
              "      <td>NaN</td>\n",
              "      <td>326373.19</td>\n",
              "      <td>326373.19</td>\n",
              "      <td>2011</td>\n",
              "      <td>NaN</td>\n",
              "      <td>San Francisco</td>\n",
              "      <td>NaN</td>\n",
              "    </tr>\n",
              "    <tr>\n",
              "      <th>...</th>\n",
              "      <td>...</td>\n",
              "      <td>...</td>\n",
              "      <td>...</td>\n",
              "      <td>...</td>\n",
              "      <td>...</td>\n",
              "      <td>...</td>\n",
              "      <td>...</td>\n",
              "      <td>...</td>\n",
              "      <td>...</td>\n",
              "      <td>...</td>\n",
              "      <td>...</td>\n",
              "      <td>...</td>\n",
              "      <td>...</td>\n",
              "    </tr>\n",
              "    <tr>\n",
              "      <th>148649</th>\n",
              "      <td>148650</td>\n",
              "      <td>Roy I Tillery</td>\n",
              "      <td>Custodian</td>\n",
              "      <td>0.00</td>\n",
              "      <td>0.00</td>\n",
              "      <td>0.00</td>\n",
              "      <td>0.0</td>\n",
              "      <td>0.00</td>\n",
              "      <td>0.00</td>\n",
              "      <td>2014</td>\n",
              "      <td>NaN</td>\n",
              "      <td>San Francisco</td>\n",
              "      <td>NaN</td>\n",
              "    </tr>\n",
              "    <tr>\n",
              "      <th>148650</th>\n",
              "      <td>148651</td>\n",
              "      <td>Not provided</td>\n",
              "      <td>Not provided</td>\n",
              "      <td>NaN</td>\n",
              "      <td>NaN</td>\n",
              "      <td>NaN</td>\n",
              "      <td>NaN</td>\n",
              "      <td>0.00</td>\n",
              "      <td>0.00</td>\n",
              "      <td>2014</td>\n",
              "      <td>NaN</td>\n",
              "      <td>San Francisco</td>\n",
              "      <td>NaN</td>\n",
              "    </tr>\n",
              "    <tr>\n",
              "      <th>148651</th>\n",
              "      <td>148652</td>\n",
              "      <td>Not provided</td>\n",
              "      <td>Not provided</td>\n",
              "      <td>NaN</td>\n",
              "      <td>NaN</td>\n",
              "      <td>NaN</td>\n",
              "      <td>NaN</td>\n",
              "      <td>0.00</td>\n",
              "      <td>0.00</td>\n",
              "      <td>2014</td>\n",
              "      <td>NaN</td>\n",
              "      <td>San Francisco</td>\n",
              "      <td>NaN</td>\n",
              "    </tr>\n",
              "    <tr>\n",
              "      <th>148652</th>\n",
              "      <td>148653</td>\n",
              "      <td>Not provided</td>\n",
              "      <td>Not provided</td>\n",
              "      <td>NaN</td>\n",
              "      <td>NaN</td>\n",
              "      <td>NaN</td>\n",
              "      <td>NaN</td>\n",
              "      <td>0.00</td>\n",
              "      <td>0.00</td>\n",
              "      <td>2014</td>\n",
              "      <td>NaN</td>\n",
              "      <td>San Francisco</td>\n",
              "      <td>NaN</td>\n",
              "    </tr>\n",
              "    <tr>\n",
              "      <th>148653</th>\n",
              "      <td>148654</td>\n",
              "      <td>Joe Lopez</td>\n",
              "      <td>Counselor, Log Cabin Ranch</td>\n",
              "      <td>0.00</td>\n",
              "      <td>0.00</td>\n",
              "      <td>-618.13</td>\n",
              "      <td>0.0</td>\n",
              "      <td>-618.13</td>\n",
              "      <td>-618.13</td>\n",
              "      <td>2014</td>\n",
              "      <td>NaN</td>\n",
              "      <td>San Francisco</td>\n",
              "      <td>NaN</td>\n",
              "    </tr>\n",
              "  </tbody>\n",
              "</table>\n",
              "<p>148654 rows × 13 columns</p>\n",
              "</div>\n",
              "      <button class=\"colab-df-convert\" onclick=\"convertToInteractive('df-5d457894-1024-4b8a-9537-fc0147216e6e')\"\n",
              "              title=\"Convert this dataframe to an interactive table.\"\n",
              "              style=\"display:none;\">\n",
              "        \n",
              "  <svg xmlns=\"http://www.w3.org/2000/svg\" height=\"24px\"viewBox=\"0 0 24 24\"\n",
              "       width=\"24px\">\n",
              "    <path d=\"M0 0h24v24H0V0z\" fill=\"none\"/>\n",
              "    <path d=\"M18.56 5.44l.94 2.06.94-2.06 2.06-.94-2.06-.94-.94-2.06-.94 2.06-2.06.94zm-11 1L8.5 8.5l.94-2.06 2.06-.94-2.06-.94L8.5 2.5l-.94 2.06-2.06.94zm10 10l.94 2.06.94-2.06 2.06-.94-2.06-.94-.94-2.06-.94 2.06-2.06.94z\"/><path d=\"M17.41 7.96l-1.37-1.37c-.4-.4-.92-.59-1.43-.59-.52 0-1.04.2-1.43.59L10.3 9.45l-7.72 7.72c-.78.78-.78 2.05 0 2.83L4 21.41c.39.39.9.59 1.41.59.51 0 1.02-.2 1.41-.59l7.78-7.78 2.81-2.81c.8-.78.8-2.07 0-2.86zM5.41 20L4 18.59l7.72-7.72 1.47 1.35L5.41 20z\"/>\n",
              "  </svg>\n",
              "      </button>\n",
              "      \n",
              "  <style>\n",
              "    .colab-df-container {\n",
              "      display:flex;\n",
              "      flex-wrap:wrap;\n",
              "      gap: 12px;\n",
              "    }\n",
              "\n",
              "    .colab-df-convert {\n",
              "      background-color: #E8F0FE;\n",
              "      border: none;\n",
              "      border-radius: 50%;\n",
              "      cursor: pointer;\n",
              "      display: none;\n",
              "      fill: #1967D2;\n",
              "      height: 32px;\n",
              "      padding: 0 0 0 0;\n",
              "      width: 32px;\n",
              "    }\n",
              "\n",
              "    .colab-df-convert:hover {\n",
              "      background-color: #E2EBFA;\n",
              "      box-shadow: 0px 1px 2px rgba(60, 64, 67, 0.3), 0px 1px 3px 1px rgba(60, 64, 67, 0.15);\n",
              "      fill: #174EA6;\n",
              "    }\n",
              "\n",
              "    [theme=dark] .colab-df-convert {\n",
              "      background-color: #3B4455;\n",
              "      fill: #D2E3FC;\n",
              "    }\n",
              "\n",
              "    [theme=dark] .colab-df-convert:hover {\n",
              "      background-color: #434B5C;\n",
              "      box-shadow: 0px 1px 3px 1px rgba(0, 0, 0, 0.15);\n",
              "      filter: drop-shadow(0px 1px 2px rgba(0, 0, 0, 0.3));\n",
              "      fill: #FFFFFF;\n",
              "    }\n",
              "  </style>\n",
              "\n",
              "      <script>\n",
              "        const buttonEl =\n",
              "          document.querySelector('#df-5d457894-1024-4b8a-9537-fc0147216e6e button.colab-df-convert');\n",
              "        buttonEl.style.display =\n",
              "          google.colab.kernel.accessAllowed ? 'block' : 'none';\n",
              "\n",
              "        async function convertToInteractive(key) {\n",
              "          const element = document.querySelector('#df-5d457894-1024-4b8a-9537-fc0147216e6e');\n",
              "          const dataTable =\n",
              "            await google.colab.kernel.invokeFunction('convertToInteractive',\n",
              "                                                     [key], {});\n",
              "          if (!dataTable) return;\n",
              "\n",
              "          const docLinkHtml = 'Like what you see? Visit the ' +\n",
              "            '<a target=\"_blank\" href=https://colab.research.google.com/notebooks/data_table.ipynb>data table notebook</a>'\n",
              "            + ' to learn more about interactive tables.';\n",
              "          element.innerHTML = '';\n",
              "          dataTable['output_type'] = 'display_data';\n",
              "          await google.colab.output.renderOutput(dataTable, element);\n",
              "          const docLink = document.createElement('div');\n",
              "          docLink.innerHTML = docLinkHtml;\n",
              "          element.appendChild(docLink);\n",
              "        }\n",
              "      </script>\n",
              "    </div>\n",
              "  </div>\n",
              "  "
            ]
          },
          "metadata": {},
          "execution_count": 4
        }
      ]
    },
    {
      "cell_type": "markdown",
      "metadata": {
        "id": "Y1RWKvpjDPCn"
      },
      "source": [
        "**Check the head of the DataFrame.**"
      ]
    },
    {
      "cell_type": "code",
      "execution_count": null,
      "metadata": {
        "id": "nUMwIrJVDPCo",
        "outputId": "a61532ed-d69f-414e-ba0d-e41cddbc4e80",
        "colab": {
          "base_uri": "https://localhost:8080/",
          "height": 530
        }
      },
      "outputs": [
        {
          "output_type": "execute_result",
          "data": {
            "text/plain": [
              "   Id       EmployeeName                                        JobTitle  \\\n",
              "0   1     NATHANIEL FORD  GENERAL MANAGER-METROPOLITAN TRANSIT AUTHORITY   \n",
              "1   2       GARY JIMENEZ                 CAPTAIN III (POLICE DEPARTMENT)   \n",
              "2   3     ALBERT PARDINI                 CAPTAIN III (POLICE DEPARTMENT)   \n",
              "3   4  CHRISTOPHER CHONG            WIRE ROPE CABLE MAINTENANCE MECHANIC   \n",
              "4   5    PATRICK GARDNER    DEPUTY CHIEF OF DEPARTMENT,(FIRE DEPARTMENT)   \n",
              "\n",
              "     BasePay  OvertimePay   OtherPay  Benefits   TotalPay  TotalPayBenefits  \\\n",
              "0  167411.18         0.00  400184.25       NaN  567595.43         567595.43   \n",
              "1  155966.02    245131.88  137811.38       NaN  538909.28         538909.28   \n",
              "2  212739.13    106088.18   16452.60       NaN  335279.91         335279.91   \n",
              "3   77916.00     56120.71  198306.90       NaN  332343.61         332343.61   \n",
              "4  134401.60      9737.00  182234.59       NaN  326373.19         326373.19   \n",
              "\n",
              "   Year  Notes         Agency  Status  \n",
              "0  2011    NaN  San Francisco     NaN  \n",
              "1  2011    NaN  San Francisco     NaN  \n",
              "2  2011    NaN  San Francisco     NaN  \n",
              "3  2011    NaN  San Francisco     NaN  \n",
              "4  2011    NaN  San Francisco     NaN  "
            ],
            "text/html": [
              "\n",
              "  <div id=\"df-155336b4-aafa-4029-9631-e3df5d8cd4b3\">\n",
              "    <div class=\"colab-df-container\">\n",
              "      <div>\n",
              "<style scoped>\n",
              "    .dataframe tbody tr th:only-of-type {\n",
              "        vertical-align: middle;\n",
              "    }\n",
              "\n",
              "    .dataframe tbody tr th {\n",
              "        vertical-align: top;\n",
              "    }\n",
              "\n",
              "    .dataframe thead th {\n",
              "        text-align: right;\n",
              "    }\n",
              "</style>\n",
              "<table border=\"1\" class=\"dataframe\">\n",
              "  <thead>\n",
              "    <tr style=\"text-align: right;\">\n",
              "      <th></th>\n",
              "      <th>Id</th>\n",
              "      <th>EmployeeName</th>\n",
              "      <th>JobTitle</th>\n",
              "      <th>BasePay</th>\n",
              "      <th>OvertimePay</th>\n",
              "      <th>OtherPay</th>\n",
              "      <th>Benefits</th>\n",
              "      <th>TotalPay</th>\n",
              "      <th>TotalPayBenefits</th>\n",
              "      <th>Year</th>\n",
              "      <th>Notes</th>\n",
              "      <th>Agency</th>\n",
              "      <th>Status</th>\n",
              "    </tr>\n",
              "  </thead>\n",
              "  <tbody>\n",
              "    <tr>\n",
              "      <th>0</th>\n",
              "      <td>1</td>\n",
              "      <td>NATHANIEL FORD</td>\n",
              "      <td>GENERAL MANAGER-METROPOLITAN TRANSIT AUTHORITY</td>\n",
              "      <td>167411.18</td>\n",
              "      <td>0.00</td>\n",
              "      <td>400184.25</td>\n",
              "      <td>NaN</td>\n",
              "      <td>567595.43</td>\n",
              "      <td>567595.43</td>\n",
              "      <td>2011</td>\n",
              "      <td>NaN</td>\n",
              "      <td>San Francisco</td>\n",
              "      <td>NaN</td>\n",
              "    </tr>\n",
              "    <tr>\n",
              "      <th>1</th>\n",
              "      <td>2</td>\n",
              "      <td>GARY JIMENEZ</td>\n",
              "      <td>CAPTAIN III (POLICE DEPARTMENT)</td>\n",
              "      <td>155966.02</td>\n",
              "      <td>245131.88</td>\n",
              "      <td>137811.38</td>\n",
              "      <td>NaN</td>\n",
              "      <td>538909.28</td>\n",
              "      <td>538909.28</td>\n",
              "      <td>2011</td>\n",
              "      <td>NaN</td>\n",
              "      <td>San Francisco</td>\n",
              "      <td>NaN</td>\n",
              "    </tr>\n",
              "    <tr>\n",
              "      <th>2</th>\n",
              "      <td>3</td>\n",
              "      <td>ALBERT PARDINI</td>\n",
              "      <td>CAPTAIN III (POLICE DEPARTMENT)</td>\n",
              "      <td>212739.13</td>\n",
              "      <td>106088.18</td>\n",
              "      <td>16452.60</td>\n",
              "      <td>NaN</td>\n",
              "      <td>335279.91</td>\n",
              "      <td>335279.91</td>\n",
              "      <td>2011</td>\n",
              "      <td>NaN</td>\n",
              "      <td>San Francisco</td>\n",
              "      <td>NaN</td>\n",
              "    </tr>\n",
              "    <tr>\n",
              "      <th>3</th>\n",
              "      <td>4</td>\n",
              "      <td>CHRISTOPHER CHONG</td>\n",
              "      <td>WIRE ROPE CABLE MAINTENANCE MECHANIC</td>\n",
              "      <td>77916.00</td>\n",
              "      <td>56120.71</td>\n",
              "      <td>198306.90</td>\n",
              "      <td>NaN</td>\n",
              "      <td>332343.61</td>\n",
              "      <td>332343.61</td>\n",
              "      <td>2011</td>\n",
              "      <td>NaN</td>\n",
              "      <td>San Francisco</td>\n",
              "      <td>NaN</td>\n",
              "    </tr>\n",
              "    <tr>\n",
              "      <th>4</th>\n",
              "      <td>5</td>\n",
              "      <td>PATRICK GARDNER</td>\n",
              "      <td>DEPUTY CHIEF OF DEPARTMENT,(FIRE DEPARTMENT)</td>\n",
              "      <td>134401.60</td>\n",
              "      <td>9737.00</td>\n",
              "      <td>182234.59</td>\n",
              "      <td>NaN</td>\n",
              "      <td>326373.19</td>\n",
              "      <td>326373.19</td>\n",
              "      <td>2011</td>\n",
              "      <td>NaN</td>\n",
              "      <td>San Francisco</td>\n",
              "      <td>NaN</td>\n",
              "    </tr>\n",
              "  </tbody>\n",
              "</table>\n",
              "</div>\n",
              "      <button class=\"colab-df-convert\" onclick=\"convertToInteractive('df-155336b4-aafa-4029-9631-e3df5d8cd4b3')\"\n",
              "              title=\"Convert this dataframe to an interactive table.\"\n",
              "              style=\"display:none;\">\n",
              "        \n",
              "  <svg xmlns=\"http://www.w3.org/2000/svg\" height=\"24px\"viewBox=\"0 0 24 24\"\n",
              "       width=\"24px\">\n",
              "    <path d=\"M0 0h24v24H0V0z\" fill=\"none\"/>\n",
              "    <path d=\"M18.56 5.44l.94 2.06.94-2.06 2.06-.94-2.06-.94-.94-2.06-.94 2.06-2.06.94zm-11 1L8.5 8.5l.94-2.06 2.06-.94-2.06-.94L8.5 2.5l-.94 2.06-2.06.94zm10 10l.94 2.06.94-2.06 2.06-.94-2.06-.94-.94-2.06-.94 2.06-2.06.94z\"/><path d=\"M17.41 7.96l-1.37-1.37c-.4-.4-.92-.59-1.43-.59-.52 0-1.04.2-1.43.59L10.3 9.45l-7.72 7.72c-.78.78-.78 2.05 0 2.83L4 21.41c.39.39.9.59 1.41.59.51 0 1.02-.2 1.41-.59l7.78-7.78 2.81-2.81c.8-.78.8-2.07 0-2.86zM5.41 20L4 18.59l7.72-7.72 1.47 1.35L5.41 20z\"/>\n",
              "  </svg>\n",
              "      </button>\n",
              "      \n",
              "  <style>\n",
              "    .colab-df-container {\n",
              "      display:flex;\n",
              "      flex-wrap:wrap;\n",
              "      gap: 12px;\n",
              "    }\n",
              "\n",
              "    .colab-df-convert {\n",
              "      background-color: #E8F0FE;\n",
              "      border: none;\n",
              "      border-radius: 50%;\n",
              "      cursor: pointer;\n",
              "      display: none;\n",
              "      fill: #1967D2;\n",
              "      height: 32px;\n",
              "      padding: 0 0 0 0;\n",
              "      width: 32px;\n",
              "    }\n",
              "\n",
              "    .colab-df-convert:hover {\n",
              "      background-color: #E2EBFA;\n",
              "      box-shadow: 0px 1px 2px rgba(60, 64, 67, 0.3), 0px 1px 3px 1px rgba(60, 64, 67, 0.15);\n",
              "      fill: #174EA6;\n",
              "    }\n",
              "\n",
              "    [theme=dark] .colab-df-convert {\n",
              "      background-color: #3B4455;\n",
              "      fill: #D2E3FC;\n",
              "    }\n",
              "\n",
              "    [theme=dark] .colab-df-convert:hover {\n",
              "      background-color: #434B5C;\n",
              "      box-shadow: 0px 1px 3px 1px rgba(0, 0, 0, 0.15);\n",
              "      filter: drop-shadow(0px 1px 2px rgba(0, 0, 0, 0.3));\n",
              "      fill: #FFFFFF;\n",
              "    }\n",
              "  </style>\n",
              "\n",
              "      <script>\n",
              "        const buttonEl =\n",
              "          document.querySelector('#df-155336b4-aafa-4029-9631-e3df5d8cd4b3 button.colab-df-convert');\n",
              "        buttonEl.style.display =\n",
              "          google.colab.kernel.accessAllowed ? 'block' : 'none';\n",
              "\n",
              "        async function convertToInteractive(key) {\n",
              "          const element = document.querySelector('#df-155336b4-aafa-4029-9631-e3df5d8cd4b3');\n",
              "          const dataTable =\n",
              "            await google.colab.kernel.invokeFunction('convertToInteractive',\n",
              "                                                     [key], {});\n",
              "          if (!dataTable) return;\n",
              "\n",
              "          const docLinkHtml = 'Like what you see? Visit the ' +\n",
              "            '<a target=\"_blank\" href=https://colab.research.google.com/notebooks/data_table.ipynb>data table notebook</a>'\n",
              "            + ' to learn more about interactive tables.';\n",
              "          element.innerHTML = '';\n",
              "          dataTable['output_type'] = 'display_data';\n",
              "          await google.colab.output.renderOutput(dataTable, element);\n",
              "          const docLink = document.createElement('div');\n",
              "          docLink.innerHTML = docLinkHtml;\n",
              "          element.appendChild(docLink);\n",
              "        }\n",
              "      </script>\n",
              "    </div>\n",
              "  </div>\n",
              "  "
            ]
          },
          "metadata": {},
          "execution_count": 7
        }
      ],
      "source": [
        "df.head()"
      ]
    },
    {
      "cell_type": "markdown",
      "metadata": {
        "id": "8AsoqhIJDPCp"
      },
      "source": [
        "**Use the .info() method to find out how many entries there are.**"
      ]
    },
    {
      "cell_type": "code",
      "execution_count": null,
      "metadata": {
        "id": "iFWlAeYNDPCp",
        "outputId": "c3ad93ba-d079-4553-bda3-a6390265e018",
        "colab": {
          "base_uri": "https://localhost:8080/"
        }
      },
      "outputs": [
        {
          "output_type": "stream",
          "name": "stdout",
          "text": [
            "<class 'pandas.core.frame.DataFrame'>\n",
            "RangeIndex: 148654 entries, 0 to 148653\n",
            "Data columns (total 13 columns):\n",
            " #   Column            Non-Null Count   Dtype  \n",
            "---  ------            --------------   -----  \n",
            " 0   Id                148654 non-null  int64  \n",
            " 1   EmployeeName      148654 non-null  object \n",
            " 2   JobTitle          148654 non-null  object \n",
            " 3   BasePay           148045 non-null  float64\n",
            " 4   OvertimePay       148650 non-null  float64\n",
            " 5   OtherPay          148650 non-null  float64\n",
            " 6   Benefits          112491 non-null  float64\n",
            " 7   TotalPay          148654 non-null  float64\n",
            " 8   TotalPayBenefits  148654 non-null  float64\n",
            " 9   Year              148654 non-null  int64  \n",
            " 10  Notes             0 non-null       float64\n",
            " 11  Agency            148654 non-null  object \n",
            " 12  Status            0 non-null       float64\n",
            "dtypes: float64(8), int64(2), object(3)\n",
            "memory usage: 14.7+ MB\n"
          ]
        }
      ],
      "source": [
        "df.info()"
      ]
    },
    {
      "cell_type": "markdown",
      "metadata": {
        "id": "Js_UlhqfDPCq"
      },
      "source": [
        "**What is the average BasePay ?**"
      ]
    },
    {
      "cell_type": "code",
      "execution_count": null,
      "metadata": {
        "id": "FNwItUyNDPCq",
        "outputId": "49257c63-870c-48c8-e557-c6f47f7b54ee",
        "colab": {
          "base_uri": "https://localhost:8080/"
        }
      },
      "outputs": [
        {
          "output_type": "execute_result",
          "data": {
            "text/plain": [
              "66325.4488404877"
            ]
          },
          "metadata": {},
          "execution_count": 10
        }
      ],
      "source": [
        "df[\"BasePay\"].mean()"
      ]
    },
    {
      "cell_type": "code",
      "source": [
        "df.columns"
      ],
      "metadata": {
        "colab": {
          "base_uri": "https://localhost:8080/"
        },
        "id": "0_OGxuddGpeH",
        "outputId": "2b028a17-b869-4439-eac1-8a6d1fd863c1"
      },
      "execution_count": null,
      "outputs": [
        {
          "output_type": "execute_result",
          "data": {
            "text/plain": [
              "Index(['Id', 'EmployeeName', 'JobTitle', 'BasePay', 'OvertimePay', 'OtherPay',\n",
              "       'Benefits', 'TotalPay', 'TotalPayBenefits', 'Year', 'Notes', 'Agency',\n",
              "       'Status'],\n",
              "      dtype='object')"
            ]
          },
          "metadata": {},
          "execution_count": 11
        }
      ]
    },
    {
      "cell_type": "markdown",
      "metadata": {
        "id": "sSLPga63DPCq"
      },
      "source": [
        "**What is the highest amount of OvertimePay in the dataset ?**"
      ]
    },
    {
      "cell_type": "code",
      "execution_count": null,
      "metadata": {
        "id": "Ebo_nV7wDPCr",
        "outputId": "ee12e647-3416-4557-dada-da93526aed38",
        "colab": {
          "base_uri": "https://localhost:8080/"
        }
      },
      "outputs": [
        {
          "output_type": "execute_result",
          "data": {
            "text/plain": [
              "245131.88"
            ]
          },
          "metadata": {},
          "execution_count": 12
        }
      ],
      "source": [
        "df[\"OvertimePay\"].max()"
      ]
    },
    {
      "cell_type": "markdown",
      "metadata": {
        "id": "a3QRNjjJDPCr"
      },
      "source": [
        "**What is the job title of  JOSEPH DRISCOLL ? Note: Use all caps, otherwise you may get an answer that doesn't match up (there is also a lowercase Joseph Driscoll).**"
      ]
    },
    {
      "cell_type": "code",
      "execution_count": null,
      "metadata": {
        "id": "cif-fPWZDPCr",
        "outputId": "202005c3-6c18-4dc1-d7b4-e9b5613c6daa",
        "colab": {
          "base_uri": "https://localhost:8080/"
        }
      },
      "outputs": [
        {
          "output_type": "execute_result",
          "data": {
            "text/plain": [
              "24    CAPTAIN, FIRE SUPPRESSION\n",
              "Name: JobTitle, dtype: object"
            ]
          },
          "metadata": {},
          "execution_count": 15
        }
      ],
      "source": [
        "df[df[\"EmployeeName\"]==\"JOSEPH DRISCOLL\"][\"JobTitle\"]"
      ]
    },
    {
      "cell_type": "markdown",
      "metadata": {
        "id": "Rlo4EEq6DPCs"
      },
      "source": [
        "**How much does JOSEPH DRISCOLL make (including benefits)?**"
      ]
    },
    {
      "cell_type": "code",
      "execution_count": null,
      "metadata": {
        "id": "-UOp05gqDPCs",
        "outputId": "f25273f7-92b1-4245-fb29-0b455b522165",
        "colab": {
          "base_uri": "https://localhost:8080/"
        }
      },
      "outputs": [
        {
          "output_type": "execute_result",
          "data": {
            "text/plain": [
              "24    270324.91\n",
              "Name: TotalPayBenefits, dtype: float64"
            ]
          },
          "metadata": {},
          "execution_count": 16
        }
      ],
      "source": [
        "df[df[\"EmployeeName\"]==\"JOSEPH DRISCOLL\"][\"TotalPayBenefits\"]"
      ]
    },
    {
      "cell_type": "markdown",
      "metadata": {
        "id": "tq8pgTxiDPCs"
      },
      "source": [
        "**What is the name of highest paid person (including benefits)?**"
      ]
    },
    {
      "cell_type": "code",
      "execution_count": null,
      "metadata": {
        "id": "bdwsJjAcDPCs",
        "outputId": "d60c1602-6c69-4095-df59-615f79d7e1b7",
        "colab": {
          "base_uri": "https://localhost:8080/",
          "height": 35
        }
      },
      "outputs": [
        {
          "output_type": "execute_result",
          "data": {
            "text/plain": [
              "'NATHANIEL FORD'"
            ],
            "application/vnd.google.colaboratory.intrinsic+json": {
              "type": "string"
            }
          },
          "metadata": {},
          "execution_count": 29
        }
      ],
      "source": [
        "#df[df[\"TotalPayBenefits\"]==df[\"TotalPayBenefits\"].max()][\"EmployeeName\"]\n",
        "#df[\"TotalPayBenefits\"].idxmax()\n",
        "df.loc[df[\"TotalPayBenefits\"].idxmax()][\"EmployeeName\"]"
      ]
    },
    {
      "cell_type": "markdown",
      "metadata": {
        "id": "x80ZP32UDPCt"
      },
      "source": [
        "**What is the name of lowest paid person (including benefits)? Do you notice something strange about how much he or she is paid?**"
      ]
    },
    {
      "cell_type": "code",
      "execution_count": null,
      "metadata": {
        "id": "n2W1ZDp_DPCt",
        "outputId": "bebace8d-b79d-4412-b6df-c9653f57655b",
        "colab": {
          "base_uri": "https://localhost:8080/",
          "height": 35
        }
      },
      "outputs": [
        {
          "output_type": "execute_result",
          "data": {
            "text/plain": [
              "'Joe Lopez'"
            ],
            "application/vnd.google.colaboratory.intrinsic+json": {
              "type": "string"
            }
          },
          "metadata": {},
          "execution_count": 30
        }
      ],
      "source": [
        "df.loc[df[\"TotalPayBenefits\"].idxmin()][\"EmployeeName\"]"
      ]
    },
    {
      "cell_type": "markdown",
      "metadata": {
        "id": "TutdmkAVDPCt"
      },
      "source": [
        "**What was the average (mean) BasePay of all employees per year? (2011-2014) ?**"
      ]
    },
    {
      "cell_type": "code",
      "execution_count": null,
      "metadata": {
        "id": "de2fdgWVDPCt",
        "outputId": "a7e9ff07-1a96-422c-d153-6ddf52207112",
        "colab": {
          "base_uri": "https://localhost:8080/"
        }
      },
      "outputs": [
        {
          "output_type": "stream",
          "name": "stderr",
          "text": [
            "<ipython-input-33-c2c89a00460f>:1: FutureWarning: The default value of numeric_only in DataFrameGroupBy.mean is deprecated. In a future version, numeric_only will default to False. Either specify numeric_only or select only columns which should be valid for the function.\n",
            "  df.groupby('Year').mean()[\"BasePay\"]\n"
          ]
        },
        {
          "output_type": "execute_result",
          "data": {
            "text/plain": [
              "Year\n",
              "2011    63595.956517\n",
              "2012    65436.406857\n",
              "2013    69630.030216\n",
              "2014    66564.421924\n",
              "Name: BasePay, dtype: float64"
            ]
          },
          "metadata": {},
          "execution_count": 33
        }
      ],
      "source": [
        "df.groupby('Year').mean()[\"BasePay\"]"
      ]
    },
    {
      "cell_type": "markdown",
      "metadata": {
        "id": "nspYmG5WDPCu"
      },
      "source": [
        "**How many unique job titles are there?**"
      ]
    },
    {
      "cell_type": "code",
      "execution_count": null,
      "metadata": {
        "id": "wSm5fRt8DPCu",
        "outputId": "f032733d-4ddf-4830-f2ab-621dceb4a907",
        "colab": {
          "base_uri": "https://localhost:8080/"
        }
      },
      "outputs": [
        {
          "output_type": "execute_result",
          "data": {
            "text/plain": [
              "2159"
            ]
          },
          "metadata": {},
          "execution_count": 37
        }
      ],
      "source": [
        "df[\"JobTitle\"].nunique()"
      ]
    },
    {
      "cell_type": "markdown",
      "metadata": {
        "id": "fyU1A_7XDPCu"
      },
      "source": [
        "**What are the top 5 most common jobs?**"
      ]
    },
    {
      "cell_type": "code",
      "execution_count": null,
      "metadata": {
        "id": "i1H7KErSDPCu",
        "outputId": "661397c0-791f-4f6e-d3c2-742d7c7553e6",
        "colab": {
          "base_uri": "https://localhost:8080/"
        }
      },
      "outputs": [
        {
          "output_type": "execute_result",
          "data": {
            "text/plain": [
              "Transit Operator                7036\n",
              "Special Nurse                   4389\n",
              "Registered Nurse                3736\n",
              "Public Svc Aide-Public Works    2518\n",
              "Police Officer 3                2421\n",
              "Name: JobTitle, dtype: int64"
            ]
          },
          "metadata": {},
          "execution_count": 39
        }
      ],
      "source": [
        "df[\"JobTitle\"].value_counts().head()"
      ]
    },
    {
      "cell_type": "markdown",
      "metadata": {
        "id": "YNZAb9ARDPCu"
      },
      "source": [
        "**How many Job Titles were represented by only one person in 2013? (e.g. Job Titles with only one occurence in 2013?**"
      ]
    },
    {
      "cell_type": "code",
      "execution_count": null,
      "metadata": {
        "id": "aifVwXRnDPCv",
        "outputId": "8c02f50e-c2ad-488d-80be-051febc79fa9",
        "colab": {
          "base_uri": "https://localhost:8080/"
        }
      },
      "outputs": [
        {
          "output_type": "execute_result",
          "data": {
            "text/plain": [
              "202"
            ]
          },
          "metadata": {},
          "execution_count": 45
        }
      ],
      "source": [
        "sum(df[df[\"Year\"]==2013][\"JobTitle\"].value_counts()==1)"
      ]
    },
    {
      "cell_type": "code",
      "source": [
        "x=pd.DataFrame(df[\"JobTitle\"].value_counts()==1)"
      ],
      "metadata": {
        "id": "0VA5k5wF6Jjp"
      },
      "execution_count": null,
      "outputs": []
    },
    {
      "cell_type": "code",
      "source": [
        "x"
      ],
      "metadata": {
        "colab": {
          "base_uri": "https://localhost:8080/",
          "height": 423
        },
        "id": "8O-NewKB9BES",
        "outputId": "ea3ea14d-c162-4c2b-d7ea-a8738558a33b"
      },
      "execution_count": null,
      "outputs": [
        {
          "output_type": "execute_result",
          "data": {
            "text/plain": [
              "                                                JobTitle\n",
              "Transit Operator                                   False\n",
              "Special Nurse                                      False\n",
              "Registered Nurse                                   False\n",
              "Public Svc Aide-Public Works                       False\n",
              "Police Officer 3                                   False\n",
              "...                                                  ...\n",
              "CHIEF HOUSING INSPECTOR                             True\n",
              "TRAFFIC SIGNAL OPERATOR                             True\n",
              "COURT COMPUTER FACILITIES COORDINATOR               True\n",
              "AUTOMOTIVE BODY AND FENDER WORKER SUPERVISOR I      True\n",
              "VICTIM & WITNESS TECHNICIAN                         True\n",
              "\n",
              "[2159 rows x 1 columns]"
            ],
            "text/html": [
              "\n",
              "  <div id=\"df-f956ff8f-827b-41fd-8338-9ec2f0383934\">\n",
              "    <div class=\"colab-df-container\">\n",
              "      <div>\n",
              "<style scoped>\n",
              "    .dataframe tbody tr th:only-of-type {\n",
              "        vertical-align: middle;\n",
              "    }\n",
              "\n",
              "    .dataframe tbody tr th {\n",
              "        vertical-align: top;\n",
              "    }\n",
              "\n",
              "    .dataframe thead th {\n",
              "        text-align: right;\n",
              "    }\n",
              "</style>\n",
              "<table border=\"1\" class=\"dataframe\">\n",
              "  <thead>\n",
              "    <tr style=\"text-align: right;\">\n",
              "      <th></th>\n",
              "      <th>JobTitle</th>\n",
              "    </tr>\n",
              "  </thead>\n",
              "  <tbody>\n",
              "    <tr>\n",
              "      <th>Transit Operator</th>\n",
              "      <td>False</td>\n",
              "    </tr>\n",
              "    <tr>\n",
              "      <th>Special Nurse</th>\n",
              "      <td>False</td>\n",
              "    </tr>\n",
              "    <tr>\n",
              "      <th>Registered Nurse</th>\n",
              "      <td>False</td>\n",
              "    </tr>\n",
              "    <tr>\n",
              "      <th>Public Svc Aide-Public Works</th>\n",
              "      <td>False</td>\n",
              "    </tr>\n",
              "    <tr>\n",
              "      <th>Police Officer 3</th>\n",
              "      <td>False</td>\n",
              "    </tr>\n",
              "    <tr>\n",
              "      <th>...</th>\n",
              "      <td>...</td>\n",
              "    </tr>\n",
              "    <tr>\n",
              "      <th>CHIEF HOUSING INSPECTOR</th>\n",
              "      <td>True</td>\n",
              "    </tr>\n",
              "    <tr>\n",
              "      <th>TRAFFIC SIGNAL OPERATOR</th>\n",
              "      <td>True</td>\n",
              "    </tr>\n",
              "    <tr>\n",
              "      <th>COURT COMPUTER FACILITIES COORDINATOR</th>\n",
              "      <td>True</td>\n",
              "    </tr>\n",
              "    <tr>\n",
              "      <th>AUTOMOTIVE BODY AND FENDER WORKER SUPERVISOR I</th>\n",
              "      <td>True</td>\n",
              "    </tr>\n",
              "    <tr>\n",
              "      <th>VICTIM &amp; WITNESS TECHNICIAN</th>\n",
              "      <td>True</td>\n",
              "    </tr>\n",
              "  </tbody>\n",
              "</table>\n",
              "<p>2159 rows × 1 columns</p>\n",
              "</div>\n",
              "      <button class=\"colab-df-convert\" onclick=\"convertToInteractive('df-f956ff8f-827b-41fd-8338-9ec2f0383934')\"\n",
              "              title=\"Convert this dataframe to an interactive table.\"\n",
              "              style=\"display:none;\">\n",
              "        \n",
              "  <svg xmlns=\"http://www.w3.org/2000/svg\" height=\"24px\"viewBox=\"0 0 24 24\"\n",
              "       width=\"24px\">\n",
              "    <path d=\"M0 0h24v24H0V0z\" fill=\"none\"/>\n",
              "    <path d=\"M18.56 5.44l.94 2.06.94-2.06 2.06-.94-2.06-.94-.94-2.06-.94 2.06-2.06.94zm-11 1L8.5 8.5l.94-2.06 2.06-.94-2.06-.94L8.5 2.5l-.94 2.06-2.06.94zm10 10l.94 2.06.94-2.06 2.06-.94-2.06-.94-.94-2.06-.94 2.06-2.06.94z\"/><path d=\"M17.41 7.96l-1.37-1.37c-.4-.4-.92-.59-1.43-.59-.52 0-1.04.2-1.43.59L10.3 9.45l-7.72 7.72c-.78.78-.78 2.05 0 2.83L4 21.41c.39.39.9.59 1.41.59.51 0 1.02-.2 1.41-.59l7.78-7.78 2.81-2.81c.8-.78.8-2.07 0-2.86zM5.41 20L4 18.59l7.72-7.72 1.47 1.35L5.41 20z\"/>\n",
              "  </svg>\n",
              "      </button>\n",
              "      \n",
              "  <style>\n",
              "    .colab-df-container {\n",
              "      display:flex;\n",
              "      flex-wrap:wrap;\n",
              "      gap: 12px;\n",
              "    }\n",
              "\n",
              "    .colab-df-convert {\n",
              "      background-color: #E8F0FE;\n",
              "      border: none;\n",
              "      border-radius: 50%;\n",
              "      cursor: pointer;\n",
              "      display: none;\n",
              "      fill: #1967D2;\n",
              "      height: 32px;\n",
              "      padding: 0 0 0 0;\n",
              "      width: 32px;\n",
              "    }\n",
              "\n",
              "    .colab-df-convert:hover {\n",
              "      background-color: #E2EBFA;\n",
              "      box-shadow: 0px 1px 2px rgba(60, 64, 67, 0.3), 0px 1px 3px 1px rgba(60, 64, 67, 0.15);\n",
              "      fill: #174EA6;\n",
              "    }\n",
              "\n",
              "    [theme=dark] .colab-df-convert {\n",
              "      background-color: #3B4455;\n",
              "      fill: #D2E3FC;\n",
              "    }\n",
              "\n",
              "    [theme=dark] .colab-df-convert:hover {\n",
              "      background-color: #434B5C;\n",
              "      box-shadow: 0px 1px 3px 1px rgba(0, 0, 0, 0.15);\n",
              "      filter: drop-shadow(0px 1px 2px rgba(0, 0, 0, 0.3));\n",
              "      fill: #FFFFFF;\n",
              "    }\n",
              "  </style>\n",
              "\n",
              "      <script>\n",
              "        const buttonEl =\n",
              "          document.querySelector('#df-f956ff8f-827b-41fd-8338-9ec2f0383934 button.colab-df-convert');\n",
              "        buttonEl.style.display =\n",
              "          google.colab.kernel.accessAllowed ? 'block' : 'none';\n",
              "\n",
              "        async function convertToInteractive(key) {\n",
              "          const element = document.querySelector('#df-f956ff8f-827b-41fd-8338-9ec2f0383934');\n",
              "          const dataTable =\n",
              "            await google.colab.kernel.invokeFunction('convertToInteractive',\n",
              "                                                     [key], {});\n",
              "          if (!dataTable) return;\n",
              "\n",
              "          const docLinkHtml = 'Like what you see? Visit the ' +\n",
              "            '<a target=\"_blank\" href=https://colab.research.google.com/notebooks/data_table.ipynb>data table notebook</a>'\n",
              "            + ' to learn more about interactive tables.';\n",
              "          element.innerHTML = '';\n",
              "          dataTable['output_type'] = 'display_data';\n",
              "          await google.colab.output.renderOutput(dataTable, element);\n",
              "          const docLink = document.createElement('div');\n",
              "          docLink.innerHTML = docLinkHtml;\n",
              "          element.appendChild(docLink);\n",
              "        }\n",
              "      </script>\n",
              "    </div>\n",
              "  </div>\n",
              "  "
            ]
          },
          "metadata": {},
          "execution_count": 18
        }
      ]
    },
    {
      "cell_type": "code",
      "source": [
        "list(x[x[\"JobTitle\"]==True].index)"
      ],
      "metadata": {
        "colab": {
          "base_uri": "https://localhost:8080/"
        },
        "id": "8Y7fW6Pv9Cn4",
        "outputId": "12ed2256-1bd4-41fa-e068-56b7c22086a8"
      },
      "execution_count": null,
      "outputs": [
        {
          "output_type": "execute_result",
          "data": {
            "text/plain": [
              "['BOARD SECRETARY - MUNICIPAL TRANSPORTATION AGENC',\n",
              " 'FEASIBILITY ANALYST, PORT',\n",
              " 'ELECTROENCEPHALOGRAPH TECHNICIAN I',\n",
              " 'Special Assistant 18',\n",
              " 'Special Assistant 13',\n",
              " 'SHELTER OFFICE SUPERVISOR',\n",
              " \"CHIEF DISTRICT ATTORNEY'S INVESTIGATOR\",\n",
              " 'TREASURER',\n",
              " 'SENIOR SUPERVISING PROBATION OFFICER, JUVENILE POU',\n",
              " 'ASSESSOR',\n",
              " 'Pianist',\n",
              " 'WHARFINGER I',\n",
              " 'Sheriff',\n",
              " 'SENIOR MORGUE ATTENDANT',\n",
              " 'CRIME LABORATORY MANAGER',\n",
              " 'METALSMITH',\n",
              " 'ASST. CHIEF, BUREAU OF CLAIMS INVEST. & ADMIN',\n",
              " 'Legislative Calendar Clerk',\n",
              " 'TRANSIT POWER LINE WORKER SUPERVISOR II',\n",
              " 'LAW LIBRARIAN',\n",
              " 'DISABILITY ACCESS COORDINATOR',\n",
              " 'SENIOR LIGHT RAIL VEHICLE EQUIPMENT ENGINEER',\n",
              " 'HEAD PHOTOGRAPHER',\n",
              " 'WINDOW CLEANER SUPERVISOR',\n",
              " 'ACUPUNCTURIST',\n",
              " 'ZOO CURATOR',\n",
              " 'VETERNIARY LABORATORY TECHNOLOGIST',\n",
              " 'TELECOMMUNICATIONS TECHNICIAN SUPERVISOR',\n",
              " 'PRINCIPAL RECREATION SUPERVISOR',\n",
              " 'CITY PLANNING GRAPHICS SUPERVISOR',\n",
              " 'COURT ADMINISTRATIVE SECRETARY',\n",
              " 'SENIOR BOOK REPAIRER',\n",
              " 'Supervising Mediator, UFCS',\n",
              " 'BAKER',\n",
              " 'Pr DistAtty Invstgtor,SpecUnit',\n",
              " 'LIEUTENANT II (POLICE DEPARTMENT)',\n",
              " 'LIEUTENANT I, (POLICE DEPARTMENT)',\n",
              " 'SUPPLY ROOM ATTENDENT',\n",
              " 'ORTHOPEDIC TECHNICIAN II',\n",
              " 'Musm Exhibit Packer & Repairer',\n",
              " 'FARMER',\n",
              " 'HH Mechanical Shop Sprv',\n",
              " 'ANIMAL CARE ASSISTANT SUPERVISOR',\n",
              " 'Administrative Hearing Sup',\n",
              " 'SHELTER OFFICE ASSISTANT SUPERVISOR',\n",
              " 'Sr Sprv Prob Ofc, Juv Prob',\n",
              " 'PORT DIRECTOR',\n",
              " 'FORENSIC TOXICOLOGIST',\n",
              " 'MATERIALS AND SUPPLIES SUPERVISOR',\n",
              " 'Light Rail Vehicle Equip Eng',\n",
              " 'Undersheriff (SFERS)',\n",
              " 'CITY ATTORNEY',\n",
              " 'Lieutenant (Police Department)',\n",
              " 'Chief Forensic Toxicologist',\n",
              " 'Chief Investment Officer',\n",
              " 'Auto Body&Fender Wrk Asst Sprv',\n",
              " 'LABORATORY HELPER',\n",
              " 'SENIOR MATERIALS AND SUPPLIES SUPERVISOR',\n",
              " 'ADMINISTRATOR, SFGH MEDICAL CENTER',\n",
              " 'CHIEF OF POLICE',\n",
              " 'SENIOR OFFSET MACHINE OPERATOR',\n",
              " 'YOUTH COMMISSION ADVISOR, BOARD OF SUPERVISORS',\n",
              " 'BRAILLIST',\n",
              " 'CHIEF OF DEPARTMENT, (FIRE DEPARTMENT)',\n",
              " 'DEPUTY DIRECTOR OF INVESTMENTS',\n",
              " 'ACPO,JuvP, Juv Prob (SFERS)',\n",
              " 'SHADE AND DRAPERY WORKER',\n",
              " 'Marina Associate Manager',\n",
              " 'Sr Cnselor, Juv Hall (SFERS)',\n",
              " 'Forensic Toxicologist Supervis',\n",
              " 'Conversion',\n",
              " 'Cashier 3',\n",
              " 'IS Technician Assistant',\n",
              " 'Drug Court Coordinator',\n",
              " 'Public Safety Comm Tech',\n",
              " 'SENIOR OPERATIONS MANAGER',\n",
              " 'Special Assistant 8',\n",
              " 'DIRECTOR, INFORMATION TECHNOLOGY GROUP',\n",
              " 'ASST. CHIEF PROBATION OFFICER-JUVENILE PROBATION',\n",
              " 'Public Service Aide-Technical',\n",
              " 'COURT PARALEGAL',\n",
              " 'ATTORNEY FOR THE PUBLIC ADMINISTRATOR',\n",
              " 'SPECIAL ASSISTANT XVIII',\n",
              " 'LEGISLATIVE CALENDAR CLERK',\n",
              " 'Police Services Aide',\n",
              " 'COURT EXECUTIVE OFFICER',\n",
              " 'Managing Attorney',\n",
              " 'Civil Case Settlmnt Specialist',\n",
              " 'ENVIRONMENT HEALTH TECHNICIAN II',\n",
              " 'DIRECTOR, EMPLOYEE RELATIONS DIVISION',\n",
              " 'SENIOR MEDICAL TRANSCRIBER TYPIST',\n",
              " 'Captain, (Fire Department)',\n",
              " 'ASSISTANT INSPECTOR (POLICE DEPARTMENT)',\n",
              " 'CHIEF TELEPHONE OPERATOR',\n",
              " 'CHIEF PROBATION OFFICER, JUVENILE COURT',\n",
              " 'HUMAN RESOURCES DIRECTOR',\n",
              " 'SENIOR PHARMACY HELPER',\n",
              " 'SHERIFF',\n",
              " 'PUBLIC DEFENDER',\n",
              " 'INSTITUTIONAL POLICE LIEUTENANT',\n",
              " 'DEPUTY SEALER OF WEIGHTS AND MEASURES',\n",
              " 'CASHIER III',\n",
              " 'WIRE ROPE CABLE MAINTENANCE SUPERVISOR',\n",
              " 'CAPTAIN, BUREAU OF FIRE PREVENTION AND PUBLIC SAFE',\n",
              " 'SECRETARY,JUVENILE PROBATION COMMISSION',\n",
              " \"LEGISLATIVE ASSISTANT, CITY ATTORNEY'S OFFICE\",\n",
              " 'SENIOR PSYCHIATRIC ORDERLY',\n",
              " 'TRAFFIC HEARING OFFICER',\n",
              " 'MAYORAL STAFF II',\n",
              " 'MUNICIPAL STADIUM GROUNDSKEEPER',\n",
              " 'TRAFFIC SIGN MANAGER',\n",
              " 'SUPERVISING COURT ADMINISTRATIVE SECRETARY',\n",
              " 'ASPHALT PLANT SUPERVISOR I',\n",
              " 'ASSISTANT SUPERINTENDENT RECREATION',\n",
              " 'AUDIOLOGIST',\n",
              " 'EXECUTIVE DIRECTOR, SOUTHEAST COMMUNITY FACILITY',\n",
              " 'CHIEF VICTIM/WITNESS INVESTIGATOR',\n",
              " 'POWER PLANT SUPERVISOR I',\n",
              " 'SECRETARY TO THE PRESIDING JUDGE',\n",
              " 'MARKET RESEARCH SPECIALISTS, PORT',\n",
              " 'SENIOR MAINTENANCE CONTROLLER',\n",
              " 'SPECIAL ASSISTANT XV',\n",
              " 'SENIOR GENERAL UTILITY MECHANIC',\n",
              " 'EMERGENCY PROTECTIVE ORDERS COMMISSIONER',\n",
              " 'CHIEF NURSERY SPECIALIST',\n",
              " 'AIRPORT ASSISTANT DEPUTY DIRECTOR, OPERATIONS',\n",
              " 'POWERHOUSE ELECTRICIAN SUPERVISOR II',\n",
              " 'SIGNAL AND SYSTEMS ENGINEER',\n",
              " 'SUPERVISING PARTS STOREKEEPER',\n",
              " 'TRIAL DELAY REDUCTION COORDINATOR',\n",
              " 'BUILDING SERVICES TECHNICIAN',\n",
              " 'CRANE MECHANIC SUPERVISOR',\n",
              " 'PRINCIPAL INVESTIGATOR, TAX COLLECTOR',\n",
              " 'SENIOR PLAN CHECKER',\n",
              " 'MEDIA TRAINING SPECIALIST',\n",
              " 'SENIOR EMPLOYEE ASSISTANCE COUNSELOR',\n",
              " 'ASSISTANT LAW LIBRARIAN',\n",
              " 'Mobile Equipment Supervisor',\n",
              " 'MEDIA PRODUCTION SUPERVISOR',\n",
              " 'ELECTRIC MOTOR REPAIR SUPERVISOR I',\n",
              " 'EMPLOYMENT AND TRAINING SPECIALIST VI',\n",
              " 'DIRECTOR, PROBATION SERVICES',\n",
              " 'EXECUTIVE SECRETARY TO THE CONTROLLER',\n",
              " 'ASSISTANT RECREATION SUPERVISOR',\n",
              " 'WAREHOUSE WORKER',\n",
              " 'AIRPORT ASSISTANT DEPUTY DIRECTOR, BUSINESS ADMINI',\n",
              " 'SECRETARY, COMMISSION ON THE ENVIRONMENT',\n",
              " 'SOFT FLOOR COVERER SUPERVISOR',\n",
              " 'SPECIAL ASSISTANT XIV',\n",
              " 'PUBLIC SAFETY COMMUNICATIONS TECHNICIAN',\n",
              " 'MENTAL HEALTH HEARING OFFICER',\n",
              " 'ORTHOPEDIC TECHNICIAN I',\n",
              " 'CONSERVATORSHIP/CASE MGNT SUPV',\n",
              " 'TRACK MAINTENANCE SUPERINTENDENT,MUNICIPAL RAILWAY',\n",
              " 'COURT SUPERVISOR I',\n",
              " 'MOBILE EQUIPMENT SUPERVISOR',\n",
              " 'PAINTER SUPERVISOR II',\n",
              " 'AREA SUPERVISOR, PARKS, SQUARES AND FACILITIES',\n",
              " 'HEAVY EQUIPMENT OPERATIONS ASSISTANT SUPERVISOR',\n",
              " 'Cfdntal Sctry to Distric Atty',\n",
              " 'TRAINING COORDINATOR',\n",
              " 'SUPERVISING WELFARE FRAUD INVESTIGATOR',\n",
              " 'MAYORAL STAFF XI',\n",
              " 'ORNAMENTAL IRON WORKER SUPERVISOR I',\n",
              " 'CARPENTER SUPERVISOR II',\n",
              " 'GLAZIER SUPERVISOR I',\n",
              " 'BARBER',\n",
              " 'SECRETARY, LIBRARY COMMISSION',\n",
              " 'IS TRAINER - SENIOR',\n",
              " 'ASSISTANT TO THE DIRECTOR, PUBLIC AFFAIRS       RS',\n",
              " 'MAYORAL STAFF V',\n",
              " 'COURT INTERPRETER SUPERVISOR',\n",
              " 'SENIOR CLAIMS INVESTIGATOR',\n",
              " 'ASSISTANT DIRECTOR OF CLINICAL SERVICES I',\n",
              " 'FIELD SERVICES ASSISTANT SUPERVISOR',\n",
              " 'DIRECTOR, HUMAN RESOURCES',\n",
              " 'MANAGER, UNIFIED FAMILY COURT SERVICES',\n",
              " 'SECRETARY, HEALTH COMMISSION',\n",
              " 'COURT CLERK',\n",
              " 'LOCKSMITH SUPERVISOR I',\n",
              " 'Senior Maintenance Controller',\n",
              " 'SECRETARY, HUMAN SERVICES COMMISSION',\n",
              " 'Asst Dir Clinical Svcs 2',\n",
              " 'SENIOR TRANSIT TRAFFIC CHECKER',\n",
              " 'ASSISTANT COURT REPORTER COORDINATOR',\n",
              " 'CEMENT FINISHER SUPERVISOR II',\n",
              " 'ELECTRICAL ENGINEERING ASSOCIATE I',\n",
              " 'CHIEF PLUMBING INSPECTOR',\n",
              " 'COURT REPORTER COORDINATOR',\n",
              " 'RENT BOARD SUPERVISOR',\n",
              " 'AIRPORT MECHANICAL MAINTENANCE SUPERVISOR',\n",
              " 'ANIMAL CARE SUPERVISOR',\n",
              " 'Court Supervisor I',\n",
              " 'LEGISLATION CLERK',\n",
              " 'PRINCIPAL MUSEUM PREPARATOR',\n",
              " 'ASSOCIATE MUSEUM CONSERVATOR, ASIAN ART MUSEUM',\n",
              " 'STATISTICIAN',\n",
              " 'IS TECHNICIAN - ASSISTANT',\n",
              " \"MAYOR'S PROGRAM MANAGER\",\n",
              " 'TRANSIT PAINT SHOP SUPERVISOR I',\n",
              " 'DIRECTOR, FISCAL SERVICES',\n",
              " 'SENIOR FOOD SERVICE SUPERVISOR',\n",
              " 'SPECIAL ASSISTANT XVI',\n",
              " 'ASSISTANT DIRECTOR OF CLINICAL SERVICES II',\n",
              " 'HEAD AIRPORT ELECTRICIAN',\n",
              " 'Head Airport Electrician',\n",
              " 'CHIEF ELECTRICAL INSPECTOR',\n",
              " 'Asst Chf Prob Ofc, Juv Prob',\n",
              " 'COURT ASSISTANT, SUPERIOR COURT',\n",
              " 'ROOFER SUPERVISOR I',\n",
              " 'COURT AD RESOLUTION COORDINATOR',\n",
              " 'TRAINING TECHNICIAN',\n",
              " 'TREE TOPPER SUPERVISOR II',\n",
              " 'CONFIDENTIAL SECRETARY TO DISTRICT ATTORNEY',\n",
              " 'ASSOCIATE HUMAN RESOURCES ANALYST',\n",
              " 'POWER HOUSE ELECTRICIAN SUPERVISOR I',\n",
              " 'EXECUTIVE ASSISTANT TO THE GENERAL MANAGER, RETIRE',\n",
              " 'CHIEF FIRE ALARM DISPATCHER',\n",
              " 'ASSISTANT DIRECTOR, LOG CABIN RANCH',\n",
              " 'MEDIA/SECURITY SYSTEMS SUPERVISOR',\n",
              " 'CHIEF MICROBIOLOGIST',\n",
              " 'COMMUNICATIONS DIRECTOR',\n",
              " 'SENIOR DATA ENTRY OPERATOR',\n",
              " 'PIANIST',\n",
              " 'LIBRARIAN II - ASIAN ARTS',\n",
              " 'ASSISTANT INDUSTRIAL HYGIENIST',\n",
              " 'EMPLOYEE ASSISTANCE COUNSELOR',\n",
              " 'POWER GENERATION TECHNICIAN I',\n",
              " 'TRAF SIGNAL ELECTRICIAN SUP I',\n",
              " 'METAL FABRICATOR',\n",
              " 'ASSISTANT DIRECTOR, JUVENILE HALL',\n",
              " 'CONFIDENTIAL SECRETARY CITY ATTORNEY',\n",
              " 'TRAF SIGNAL ELECTRICIAN SUP II',\n",
              " 'DIRECTOR, JUVENILE HALL',\n",
              " 'CHIEF HOUSING INSPECTOR',\n",
              " 'TRAFFIC SIGNAL OPERATOR',\n",
              " 'COURT COMPUTER FACILITIES COORDINATOR',\n",
              " 'AUTOMOTIVE BODY AND FENDER WORKER SUPERVISOR I',\n",
              " 'VICTIM & WITNESS TECHNICIAN']"
            ]
          },
          "metadata": {},
          "execution_count": 22
        }
      ]
    },
    {
      "cell_type": "markdown",
      "metadata": {
        "id": "vW3J0b8iDPCv"
      },
      "source": [
        "**How many people have the word Chief in their job title? (This is pretty tricky)**"
      ]
    },
    {
      "cell_type": "code",
      "execution_count": null,
      "metadata": {
        "collapsed": true,
        "id": "tvpyq9ZWDPCv"
      },
      "outputs": [],
      "source": [
        "def printHello(x):\n",
        "  print(\"Hello\", x)\n",
        "  print(\"This is inside function\")\n",
        "  print(\"Your input is =\", x)"
      ]
    },
    {
      "cell_type": "code",
      "source": [
        "printHello(6)"
      ],
      "metadata": {
        "colab": {
          "base_uri": "https://localhost:8080/"
        },
        "id": "jyRZwrTnNTED",
        "outputId": "3f6a9c78-0714-4e10-db07-2ae5b6fc3866"
      },
      "execution_count": null,
      "outputs": [
        {
          "output_type": "stream",
          "name": "stdout",
          "text": [
            "Hello 6\n",
            "This is inside function\n",
            "Your input is = 6\n"
          ]
        }
      ]
    },
    {
      "cell_type": "code",
      "execution_count": null,
      "metadata": {
        "id": "qsiZMzcIDPCv",
        "outputId": "36ebf4b3-98ff-473b-d1ce-fc6e2e4a9306",
        "colab": {
          "base_uri": "https://localhost:8080/"
        }
      },
      "outputs": [
        {
          "output_type": "stream",
          "name": "stdout",
          "text": [
            "Hello dchc\n",
            "This is inside function\n",
            "Your input is = dchc\n"
          ]
        }
      ],
      "source": [
        "printHello(\"dchc\")"
      ]
    },
    {
      "cell_type": "code",
      "source": [
        "def check_if_chief_is_present(title):\n",
        "  print(\"Title is=\", title)\n",
        "  print(\"Title in lower case is =\", title.lower())\n",
        "  if \"chief\" in title.lower():\n",
        "    return True\n",
        "  else:\n",
        "    return False\n"
      ],
      "metadata": {
        "id": "ykwBQJUANxMM"
      },
      "execution_count": null,
      "outputs": []
    },
    {
      "cell_type": "code",
      "source": [
        "check_if_chief_is_present(\"chiefthyhjg\")"
      ],
      "metadata": {
        "colab": {
          "base_uri": "https://localhost:8080/"
        },
        "id": "UR6nQ8o4OIL4",
        "outputId": "64ff3187-8917-4df1-ae4d-5982b74d7604"
      },
      "execution_count": null,
      "outputs": [
        {
          "output_type": "stream",
          "name": "stdout",
          "text": [
            "Title is= chiefthyhjg\n",
            "Title in lower case is = chiefthyhjg\n"
          ]
        },
        {
          "output_type": "execute_result",
          "data": {
            "text/plain": [
              "True"
            ]
          },
          "metadata": {},
          "execution_count": 8
        }
      ]
    },
    {
      "cell_type": "code",
      "source": [
        "check_if_chief_is_present(\"dwhgfchg\")"
      ],
      "metadata": {
        "colab": {
          "base_uri": "https://localhost:8080/"
        },
        "id": "FXMVgg0kOQM8",
        "outputId": "012072e1-7731-4cac-d3d7-c89e9329b845"
      },
      "execution_count": null,
      "outputs": [
        {
          "output_type": "stream",
          "name": "stdout",
          "text": [
            "Title is= dwhgfchg\n",
            "Title in lower case is = dwhgfchg\n"
          ]
        },
        {
          "output_type": "execute_result",
          "data": {
            "text/plain": [
              "False"
            ]
          },
          "metadata": {},
          "execution_count": 59
        }
      ]
    },
    {
      "cell_type": "code",
      "source": [
        "check_if_chief_is_present(\"CHIEF\")"
      ],
      "metadata": {
        "colab": {
          "base_uri": "https://localhost:8080/"
        },
        "id": "Pkn6gS5FOWRv",
        "outputId": "415a898d-a317-4d7f-bcf2-7989aa2b4b59"
      },
      "execution_count": null,
      "outputs": [
        {
          "output_type": "stream",
          "name": "stdout",
          "text": [
            "Title is= CHIEF\n",
            "Title in lower case is = chief\n"
          ]
        },
        {
          "output_type": "execute_result",
          "data": {
            "text/plain": [
              "True"
            ]
          },
          "metadata": {},
          "execution_count": 60
        }
      ]
    },
    {
      "cell_type": "code",
      "source": [
        "def printHello(x):\n",
        "  print(x)"
      ],
      "metadata": {
        "id": "-hPGd2FdOyIf"
      },
      "execution_count": null,
      "outputs": []
    },
    {
      "cell_type": "code",
      "source": [
        "y=lambda x:print(x)"
      ],
      "metadata": {
        "id": "BCJNWaP9O6Gx"
      },
      "execution_count": null,
      "outputs": []
    },
    {
      "cell_type": "code",
      "source": [
        "y(6)"
      ],
      "metadata": {
        "colab": {
          "base_uri": "https://localhost:8080/"
        },
        "id": "B1A3Z0SbPCI6",
        "outputId": "e069ad80-757d-45d8-e9f4-c521a5f44372"
      },
      "execution_count": null,
      "outputs": [
        {
          "output_type": "stream",
          "name": "stdout",
          "text": [
            "6\n"
          ]
        }
      ]
    },
    {
      "cell_type": "code",
      "source": [
        "z=lambda a,b:print(a+b)"
      ],
      "metadata": {
        "id": "-EtZoqQ8PGRw"
      },
      "execution_count": null,
      "outputs": []
    },
    {
      "cell_type": "code",
      "source": [
        "z(4,6)"
      ],
      "metadata": {
        "colab": {
          "base_uri": "https://localhost:8080/"
        },
        "id": "IMouNYFoPGZi",
        "outputId": "032f85dd-8c45-4c4f-cc2b-b828c9076f20"
      },
      "execution_count": null,
      "outputs": [
        {
          "output_type": "stream",
          "name": "stdout",
          "text": [
            "10\n"
          ]
        }
      ]
    },
    {
      "cell_type": "code",
      "source": [
        "q=lambda a,b:a-b\n",
        "print(\"Hello\")"
      ],
      "metadata": {
        "colab": {
          "base_uri": "https://localhost:8080/"
        },
        "id": "i65H66OCPPow",
        "outputId": "a04f7b4a-8433-4764-8121-9e7fbcb17cbd"
      },
      "execution_count": null,
      "outputs": [
        {
          "output_type": "stream",
          "name": "stdout",
          "text": [
            "Hello\n"
          ]
        }
      ]
    },
    {
      "cell_type": "code",
      "source": [
        "q(8,7)"
      ],
      "metadata": {
        "colab": {
          "base_uri": "https://localhost:8080/"
        },
        "id": "lZRjdpD3PS2g",
        "outputId": "10500de1-fee7-4eab-a8a1-261b8146ffdb"
      },
      "execution_count": null,
      "outputs": [
        {
          "output_type": "execute_result",
          "data": {
            "text/plain": [
              "1"
            ]
          },
          "metadata": {},
          "execution_count": 14
        }
      ]
    },
    {
      "cell_type": "code",
      "source": [
        "a=int(input(\"Enter first number\"))\n",
        "b=int(input(\"Enter second number\"))\n",
        "c=int(input(\"Enter 1 for add, 2 for subtract and 3 for multiply\"))"
      ],
      "metadata": {
        "colab": {
          "base_uri": "https://localhost:8080/"
        },
        "id": "JepPCyq_0ZGd",
        "outputId": "f9592411-0ca7-4cbd-ba7a-f12a0705dd6d"
      },
      "execution_count": null,
      "outputs": [
        {
          "name": "stdout",
          "output_type": "stream",
          "text": [
            "Enter first number7\n",
            "Enter second number7\n",
            "Enter 1 for add, 2 for subtract and 3 for multiply0\n"
          ]
        }
      ]
    },
    {
      "cell_type": "code",
      "source": [
        "def printStatements(x,y):\n",
        "  print(\"First number:\", x)\n",
        "  print(\"Second number:\", y)\n",
        "def add(x,y):\n",
        "  printStatements(x,y)\n",
        "  print(\"After addition the result is\", x+y)\n",
        "def sub(x,y):\n",
        "  printStatements(x,y)\n",
        "  print(\"After subtraction the result is\", x-y)\n",
        "def multiply(x,y):\n",
        "  printStatements(x,y)\n",
        "  print(\"After multiplication the result is\", x*y)\n",
        "if c==1:\n",
        "  add(a,b)\n",
        "elif c==2:\n",
        "  sub(a,b)\n",
        "elif c==3:\n",
        "  multiply(a,b)\n",
        "else:\n",
        "  print(\"Sorry wrong input\")"
      ],
      "metadata": {
        "id": "rYGMo7UEopAk",
        "colab": {
          "base_uri": "https://localhost:8080/"
        },
        "outputId": "6ff5e9e6-21f3-4624-c583-206f21a10b5f"
      },
      "execution_count": null,
      "outputs": [
        {
          "output_type": "stream",
          "name": "stdout",
          "text": [
            "Sorry wrong input\n"
          ]
        }
      ]
    },
    {
      "cell_type": "code",
      "source": [
        "z=lambda x,y:x+y"
      ],
      "metadata": {
        "id": "WljUCVAO3u1d"
      },
      "execution_count": null,
      "outputs": []
    },
    {
      "cell_type": "code",
      "source": [
        "z(6,7)"
      ],
      "metadata": {
        "colab": {
          "base_uri": "https://localhost:8080/"
        },
        "id": "f73RwZva31RC",
        "outputId": "ecce84c2-9c82-4437-c3d5-5c71d566b801"
      },
      "execution_count": null,
      "outputs": [
        {
          "output_type": "execute_result",
          "data": {
            "text/plain": [
              "13"
            ]
          },
          "metadata": {},
          "execution_count": 24
        }
      ]
    },
    {
      "cell_type": "code",
      "source": [
        "a1=lambda x:x*x"
      ],
      "metadata": {
        "id": "NRXeIuT537nt"
      },
      "execution_count": null,
      "outputs": []
    },
    {
      "cell_type": "code",
      "source": [
        "a1(8)"
      ],
      "metadata": {
        "colab": {
          "base_uri": "https://localhost:8080/"
        },
        "id": "1ssYlRjN4BoN",
        "outputId": "cebba031-aab7-439b-a3cc-b4bed4284372"
      },
      "execution_count": null,
      "outputs": [
        {
          "output_type": "execute_result",
          "data": {
            "text/plain": [
              "64"
            ]
          },
          "metadata": {},
          "execution_count": 28
        }
      ]
    },
    {
      "cell_type": "markdown",
      "metadata": {
        "id": "4qQVNic_DPCv"
      },
      "source": [
        "** Bonus: Is there a correlation between length of the Job Title string and Salary? **"
      ]
    },
    {
      "cell_type": "code",
      "execution_count": null,
      "metadata": {
        "id": "yourvRHIDPCw"
      },
      "outputs": [],
      "source": []
    },
    {
      "cell_type": "code",
      "execution_count": null,
      "metadata": {
        "id": "xw5cxMu1DPCw",
        "outputId": "0e8817ec-4ec9-4338-c79c-9f19a55a037c"
      },
      "outputs": [
        {
          "data": {
            "text/html": [
              "<div>\n",
              "<table border=\"1\" class=\"dataframe\">\n",
              "  <thead>\n",
              "    <tr style=\"text-align: right;\">\n",
              "      <th></th>\n",
              "      <th>title_len</th>\n",
              "      <th>TotalPayBenefits</th>\n",
              "    </tr>\n",
              "  </thead>\n",
              "  <tbody>\n",
              "    <tr>\n",
              "      <th>title_len</th>\n",
              "      <td>1.000000</td>\n",
              "      <td>-0.036878</td>\n",
              "    </tr>\n",
              "    <tr>\n",
              "      <th>TotalPayBenefits</th>\n",
              "      <td>-0.036878</td>\n",
              "      <td>1.000000</td>\n",
              "    </tr>\n",
              "  </tbody>\n",
              "</table>\n",
              "</div>"
            ],
            "text/plain": [
              "                  title_len  TotalPayBenefits\n",
              "title_len          1.000000         -0.036878\n",
              "TotalPayBenefits  -0.036878          1.000000"
            ]
          },
          "execution_count": 23,
          "metadata": {},
          "output_type": "execute_result"
        }
      ],
      "source": []
    },
    {
      "cell_type": "markdown",
      "metadata": {
        "id": "6wyLy7xyDPCw"
      },
      "source": [
        "# Great Job!"
      ]
    }
  ],
  "metadata": {
    "kernelspec": {
      "display_name": "Python 3",
      "language": "python",
      "name": "python3"
    },
    "language_info": {
      "codemirror_mode": {
        "name": "ipython",
        "version": 3
      },
      "file_extension": ".py",
      "mimetype": "text/x-python",
      "name": "python",
      "nbconvert_exporter": "python",
      "pygments_lexer": "ipython3",
      "version": "3.5.1"
    },
    "colab": {
      "provenance": [],
      "include_colab_link": true
    }
  },
  "nbformat": 4,
  "nbformat_minor": 0
}